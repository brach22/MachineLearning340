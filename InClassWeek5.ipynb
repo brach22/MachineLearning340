{
  "nbformat": 4,
  "nbformat_minor": 0,
  "metadata": {
    "colab": {
      "provenance": [],
      "include_colab_link": true
    },
    "kernelspec": {
      "name": "python3",
      "display_name": "Python 3"
    },
    "language_info": {
      "name": "python"
    }
  },
  "cells": [
    {
      "cell_type": "markdown",
      "metadata": {
        "id": "view-in-github",
        "colab_type": "text"
      },
      "source": [
        "<a href=\"https://colab.research.google.com/github/brach22/MachineLearning340/blob/main/InClassWeek5.ipynb\" target=\"_parent\"><img src=\"https://colab.research.google.com/assets/colab-badge.svg\" alt=\"Open In Colab\"/></a>"
      ]
    },
    {
      "cell_type": "markdown",
      "source": [
        "# Predicting Housing Costs in California\n",
        "\n",
        "CSC/DSC Week 5 In-Class Assignment\n",
        "\n",
        "Author: Julie Butler\n",
        "\n",
        "Date Created: August 18, 2023\n",
        "\n",
        "Last Modified: August 18, 2023\n",
        "\n",
        "In this notebook we will be analyzing the California housing data set from Scikit-Learn. The documentation for the data set is located [here](https://scikit-learn.org/stable/modules/generated/sklearn.datasets.fetch_california_housing.html), with more information located [here](https://scikit-learn.org/stable/datasets/real_world.html#california-housing-dataset)."
      ],
      "metadata": {
        "id": "NdqMYAtpunez"
      }
    },
    {
      "cell_type": "markdown",
      "source": [
        "**EXERCISE 0:** Place all of your import statements in the below code cell."
      ],
      "metadata": {
        "id": "AblBTtfFvX6V"
      }
    },
    {
      "cell_type": "code",
      "source": [],
      "metadata": {
        "id": "Np_YlzRQvdhZ"
      },
      "execution_count": null,
      "outputs": []
    },
    {
      "cell_type": "markdown",
      "source": [
        "**EXERCISE 1:** Import the data set from Scikit-Learn and analyze it here.  Decide if you want to use all avaliable information to train your machine learning models or if you want to perform some feature engineering first.  The data set is large (20k+ points), so you can reduce the size of the data set using the `samples` method from Pandas or by truncating the data set to make the remainder of this notebook faster.  Just remember that the fewer points you have the less data the models have to draw patterns from."
      ],
      "metadata": {
        "id": "QChJpNrNvdqh"
      }
    },
    {
      "cell_type": "code",
      "source": [],
      "metadata": {
        "id": "krwke3vMv9vz"
      },
      "execution_count": null,
      "outputs": []
    },
    {
      "cell_type": "markdown",
      "source": [
        "**EXERCISE 2:** Create your X and y data sets and perform the train-test split."
      ],
      "metadata": {
        "id": "PYqt-YE3v94p"
      }
    },
    {
      "cell_type": "code",
      "source": [],
      "metadata": {
        "id": "MdiBKzYjwFrh"
      },
      "execution_count": null,
      "outputs": []
    },
    {
      "cell_type": "markdown",
      "source": [
        "**EXERCISE 3:** In the pre-class homework you investigate five methods for creating a ridge regression fit of your data (default, for loop hyperparameter tuning, Grid Search, Randomized Search, and Bayesian ridge regression). Choose one of these methods and create the best linear model you can to predict the housing prices."
      ],
      "metadata": {
        "id": "WRsqcnTswFx6"
      }
    },
    {
      "cell_type": "code",
      "source": [],
      "metadata": {
        "id": "NLQYwr5uwZFJ"
      },
      "execution_count": null,
      "outputs": []
    },
    {
      "cell_type": "markdown",
      "source": [
        "**EXERCISE 4:** In class this week we learned about kernel ridge regression as a way to fit nonlinear data sets. In the below code cell, create the best ridge regresion algorithm you can it fit the data.  You can use either the for loop method, Grid Search, or Randomized Search to do the hyperparameter tuning.  In order to save time, restrict the kernel function to just one function.  If your tuning process is taking a signficant amount of time you can reduce the number of points in your data set."
      ],
      "metadata": {
        "id": "zOiPCbthwZL8"
      }
    },
    {
      "cell_type": "code",
      "source": [],
      "metadata": {
        "id": "mMxcd0JTw21A"
      },
      "execution_count": null,
      "outputs": []
    },
    {
      "cell_type": "markdown",
      "source": [
        "**EXERCISE 5:** Is this data best fit with a linear or a nonlinear model? Justify your results with both graphical and quantitiative metrics."
      ],
      "metadata": {
        "id": "UuRLPbKFw3Gu"
      }
    },
    {
      "cell_type": "code",
      "source": [],
      "metadata": {
        "id": "4bg9Gp1NxAmB"
      },
      "execution_count": null,
      "outputs": []
    },
    {
      "cell_type": "markdown",
      "source": [
        "## Notebook Submission\n",
        "\n",
        "Once you have completed this notebook, submit it on D2L.  Convert the notebook to a PDF using File > Print > Save as PDF.  Make sure all code outputs including graphs are visible on the PDF."
      ],
      "metadata": {
        "id": "QMH7_l9pssbN"
      }
    },
    {
      "cell_type": "code",
      "source": [],
      "metadata": {
        "id": "Zaq971jiuNy7"
      },
      "execution_count": null,
      "outputs": []
    }
  ]
}