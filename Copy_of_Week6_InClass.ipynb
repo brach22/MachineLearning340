{
  "nbformat": 4,
  "nbformat_minor": 0,
  "metadata": {
    "colab": {
      "provenance": [],
      "include_colab_link": true
    },
    "kernelspec": {
      "name": "python3",
      "display_name": "Python 3"
    },
    "language_info": {
      "name": "python"
    }
  },
  "cells": [
    {
      "cell_type": "markdown",
      "metadata": {
        "id": "view-in-github",
        "colab_type": "text"
      },
      "source": [
        "<a href=\"https://colab.research.google.com/github/brach22/MachineLearning340/blob/main/Copy_of_Week6_InClass.ipynb\" target=\"_parent\"><img src=\"https://colab.research.google.com/assets/colab-badge.svg\" alt=\"Open In Colab\"/></a>"
      ]
    },
    {
      "cell_type": "markdown",
      "source": [
        "# Unsupervised Learning with Generated Data Sets\n",
        "\n",
        "CSC/DSC 340 Week 6 In-Class and Post-Class Homework\n",
        "\n",
        "Author: [Dr. Julie Butler](www.juliebutler.org)\n",
        "\n",
        "Date Created: September 12, 2023\n",
        "\n",
        "Last Modified: September 12, 2023\n",
        "\n",
        "The goal of this notebook is to gain experience with two different unsupervised learning algorithms, using generated data sets so we can control the number of features and classes in each data set. Note that this assignment will count jointly as the in-class and post-class for this week."
      ],
      "metadata": {
        "id": "hCRRCLdMliDp"
      }
    },
    {
      "cell_type": "markdown",
      "source": [
        "**EXERCISE 0:** Add your imports to the below code cell."
      ],
      "metadata": {
        "id": "Usn650QFlb9R"
      }
    },
    {
      "cell_type": "code",
      "execution_count": 6,
      "metadata": {
        "id": "TXlUW-Lbfsfp"
      },
      "outputs": [],
      "source": [
        "import numpy as np\n",
        "import pandas as pd\n",
        "import seaborn as sns\n",
        "import matplotlib.cm as cm\n",
        "from sklearn.svm import SVC\n",
        "import matplotlib.pyplot as plt\n",
        "from scipy.stats import uniform\n",
        "from sklearn.cluster import KMeans\n",
        "from sklearn.decomposition import PCA\n",
        "from sklearn.pipeline import Pipeline\n",
        "from sklearn.metrics import confusion_matrix\n",
        "from sklearn.preprocessing import StandardScaler\n",
        "from sklearn.model_selection import train_test_split\n",
        "from sklearn.metrics import mean_squared_error as mse\n",
        "from sklearn.model_selection import RandomizedSearchCV\n",
        "from sklearn.metrics import silhouette_samples, silhouette_score\n",
        "from sklearn.metrics import accuracy_score, classification_report\n",
        "from sklearn.linear_model import RidgeClassifier\n",
        "from sklearn.linear_model import Ridge\n",
        "\n",
        "# Week 6\n",
        "from sklearn.datasets import make_blobs\n",
        "from sklearn.datasets import make_classification"
      ]
    },
    {
      "cell_type": "markdown",
      "source": [
        "**EXERCISE 1:**  Using `make_blob`, setting the number of features to 2 but increasing the number of clases from 1 to 10, make a plot of the accuracy of the ridge classifier in successfully classifying the generated data. Use [SVC](https://scikit-learn.org/stable/modules/generated/sklearn.svm.SVC.html) as your classifier for all assignments in this notebook. You may want to perform a brief hyperparameter tuning at the start of this to adjust the hyperparameters."
      ],
      "metadata": {
        "id": "bavGEVaygIGs"
      }
    },
    {
      "cell_type": "code",
      "source": [
        "ridge = Ridge()\n",
        "\n",
        "random_search = RandomizedSearchCV(ridge, distributions,\\\n",
        "                                   scoring='neg_mean_squared_error', n_iter=5000)\n",
        "random_search.fit(X_train, y_train)\n",
        "\n",
        "print(random_search.best_params_, random_search.best_score_)\n",
        "\n",
        "# =================\n",
        "ridge = Ridge(alpha=random_search.best_params_['alpha'])\n",
        "ridge.fit(X_train, y_train)\n",
        "y_pred = ridge.predict(X_test)\n",
        "\n",
        "err = MSE(y_pred, y_test)\n",
        "print(\"MSE:\", err)\n",
        "print('CHOSEN ALPHA:', random_search.best_params_['alpha'])\n",
        "\n",
        "X_test_plot = scaler.inverse_transform(X_test)\n",
        "\n",
        "plt.scatter(X_test_plot[:,1],y_test,label='True')\n",
        "plt.scatter(X_test_plot[:,1],y_pred,label='Predicted')"
      ],
      "metadata": {
        "id": "mXbNZUIgDdUv"
      },
      "execution_count": null,
      "outputs": []
    },
    {
      "cell_type": "code",
      "source": [
        "accuracies = []\n",
        "num_classes_list = list(range(2, 12))\n",
        "distributions = {'alpha':uniform(loc=0, scale=4)}\n",
        "\n",
        "\n",
        "for num_classes in num_classes_list:\n",
        "    X, y = make_blobs(n_samples=500, n_features=2, centers=num_classes)\n",
        "\n",
        "    X_train, X_test, y_train, y_test = train_test_split(X, y, test_size=0.2)\n",
        "\n",
        "    random_search = RandomizedSearchCV(RidgeClassifier(), distributions,\\\n",
        "                                   scoring='neg_mean_squared_error', n_iter=5000)\n",
        "    random_search.fit(X_train, y_train)\n",
        "\n",
        "\n",
        "    # Support Vector Classifier\n",
        "    svc = SVC(kernel='linear', C=1.0)\n",
        "    svc.fit(X_train, y_train)\n",
        "    y_pred = svc.predict(X_test)\n",
        "\n",
        "    # Ridge Classifer\n",
        "    clf = RidgeClassifier(alpha=random_search.best_params_['alpha'])\n",
        "    clf.fit(X_train, y_train)\n",
        "    y_pred = clf.predict(X_test)\n",
        "\n",
        "    accuracy = accuracy_score(y_test, y_pred)\n",
        "    accuracies.append(accuracy)\n",
        "\n",
        "plt.plot(num_classes_list, accuracies, marker='o', linestyle='-')\n",
        "plt.xlabel('Number of Classes')\n",
        "plt.ylabel('Accuracy')\n",
        "plt.title('Accuracy of Ridge Classifier vs. Number of Classes')\n",
        "plt.xticks(num_classes_list)\n",
        "plt.grid(True)\n",
        "plt.show()"
      ],
      "metadata": {
        "id": "cWfMdgl4mEtA"
      },
      "execution_count": null,
      "outputs": []
    },
    {
      "cell_type": "markdown",
      "source": [
        "**EXERCISE 2:** **EXERCISE 4:** Using SVC and `make_blobs` create a data set which as 2 labels, but increase the number of features from 1 to 20. Create a plot of that shows how the accuracy of the classification changes as the number of features in the data set changes."
      ],
      "metadata": {
        "id": "67l88be0glem"
      }
    },
    {
      "cell_type": "code",
      "source": [
        "accuracies = []\n",
        "num_classes_list = list(range(2, 22))\n",
        "\n",
        "for num_classes in num_classes_list:\n",
        "    X, y = make_blobs(n_samples=500, n_features=2, centers=num_classes)\n",
        "\n",
        "    X_train, X_test, y_train, y_test = train_test_split(X, y, test_size=0.2)\n",
        "\n",
        "    # Support Vector Classifier\n",
        "    svc = SVC(kernel='linear', C=1.0)\n",
        "    svc.fit(X_train, y_train)\n",
        "    y_pred = svc.predict(X_test)\n",
        "\n",
        "    # Ridge Classifer\n",
        "    clf = RidgeClassifier()\n",
        "    clf.fit(X_train, y_train)\n",
        "    y_pred = clf.predict(X_test)\n",
        "\n",
        "    accuracy = accuracy_score(y_test, y_pred)\n",
        "    accuracies.append(accuracy)\n",
        "\n",
        "plt.plot(num_classes_list, accuracies, marker='o', linestyle='-')\n",
        "plt.xlabel('Number of Classes')\n",
        "plt.ylabel('Accuracy')\n",
        "plt.title('Accuracy of Ridge Classifier vs. Number of Classes')\n",
        "plt.xticks(num_classes_list)\n",
        "plt.grid(True)\n",
        "plt.show()"
      ],
      "metadata": {
        "id": "0u5JW4Xkgsi9",
        "colab": {
          "base_uri": "https://localhost:8080/",
          "height": 472
        },
        "outputId": "1fb377cb-3f36-4aac-8f60-c37076b1707f"
      },
      "execution_count": 12,
      "outputs": [
        {
          "output_type": "display_data",
          "data": {
            "text/plain": [
              "<Figure size 640x480 with 1 Axes>"
            ],
            "image/png": "[encoded data removed]"
          },
          "metadata": {}
        }
      ]
    },
    {
      "cell_type": "markdown",
      "source": [
        "**EXERCISE 3:** How do the above results compare to the ridge classifier results from the pre-class? Which classifier seems to be better?"
      ],
      "metadata": {
        "id": "klp_P7xQgs7r"
      }
    },
    {
      "cell_type": "markdown",
      "source": [],
      "metadata": {
        "id": "GdkSFoQygs_C"
      }
    },
    {
      "cell_type": "markdown",
      "source": [
        "**EXERCISE 4:** (a) Create a data set using `make_blob` that has three classes and two features. Instead of passing \"3\" to the `centers` attribute, pass it the locations in the 2D feature space of the clusters. (b) Train a k-means algorithm on the data assuming three clusters. (c) Extract the predicted centers from the k-means algorithm and compare them to the true centers."
      ],
      "metadata": {
        "id": "EagrQDpahZ6V"
      }
    },
    {
      "cell_type": "code",
      "source": [],
      "metadata": {
        "id": "9deVfgKHhaCG"
      },
      "execution_count": null,
      "outputs": []
    },
    {
      "cell_type": "markdown",
      "source": [
        "**EXERCISE 5:** Create 4 data sets with `make_classifications`. The first data set should have 2 features with 2 being informative, the second should have 4 features with 2 being informative, the third should have 8 features with 2 being informative, and the fourth should have 16 features with 2 being informative. Each data set should have three classes. We will be using these data sets for the next few exercises."
      ],
      "metadata": {
        "id": "xw9Mhil8gtG2"
      }
    },
    {
      "cell_type": "code",
      "source": [],
      "metadata": {
        "id": "cHcd8MdOhVPO"
      },
      "execution_count": null,
      "outputs": []
    },
    {
      "cell_type": "markdown",
      "source": [
        "**EXERCISE 6:** Train a SVC algorithm on each of the above data sets. Create a plot of accuracy on the y axis and informative features / total features on the x axis. Is there a difference between the different data sets?"
      ],
      "metadata": {
        "id": "ciOOMpXlkZXb"
      }
    },
    {
      "cell_type": "code",
      "source": [],
      "metadata": {
        "id": "VNU_iZb7kZd5"
      },
      "execution_count": null,
      "outputs": []
    },
    {
      "cell_type": "markdown",
      "source": [
        "**EXERCISE 7:** Using a combination of elbow plots and silhouette plots, find the number of clusters k-means thinks the above four data sets should be split into. Does this match the number of clusters each data set was made with?"
      ],
      "metadata": {
        "id": "Xg6dVcFQkM98"
      }
    },
    {
      "cell_type": "code",
      "source": [],
      "metadata": {
        "id": "xJEl0fkhkMF_"
      },
      "execution_count": null,
      "outputs": []
    },
    {
      "cell_type": "markdown",
      "source": [
        "**EXERCISE 8:** Using a Pipeline, set up a workflow that scales the data, performs PCA on it, and then trains a SVC with the data. Use this Pipeline and `RandomizedSearchCV` to determine the optimal number of components and the values of the hyperparameters for SVC. Do this for all four data sets."
      ],
      "metadata": {
        "id": "_DU77cPOkzsk"
      }
    },
    {
      "cell_type": "code",
      "source": [],
      "metadata": {
        "id": "jFXwBtzslPON"
      },
      "execution_count": null,
      "outputs": []
    },
    {
      "cell_type": "markdown",
      "source": [
        "**EXERCISE 9:** How many components are needed to keep 95% of the variance in each of the data sets?"
      ],
      "metadata": {
        "id": "UGVi6CqOlUmu"
      }
    },
    {
      "cell_type": "code",
      "source": [],
      "metadata": {
        "id": "xzriwmo1laVA"
      },
      "execution_count": null,
      "outputs": []
    },
    {
      "cell_type": "markdown",
      "source": [
        "**EXECISE 10:** Does smaller ratio of informative features to total features negatively impact classification? Does PCA help improve the results?"
      ],
      "metadata": {
        "id": "iB75NxSflt_b"
      }
    },
    {
      "cell_type": "markdown",
      "source": [],
      "metadata": {
        "id": "hLQMWQVBluFw"
      }
    },
    {
      "cell_type": "markdown",
      "source": [
        "**EXERCISE 11:** Using the steps taken by the PCA algorithm detailed in the lecture notes, create your own PCA algorithm that finds the new components (you should not use the Scikit-Learn implementation here). Create a generated data set that has any form you like. Compare the components given by Scikit-Learn's PCA to your function if you ask it to reduce the data set down to two"
      ],
      "metadata": {
        "id": "j3DWl6jVvlLA"
      }
    },
    {
      "cell_type": "markdown",
      "source": [
        "## Notebook Submission\n",
        "\n",
        "Once you have completed this notebook, submit it on D2L.  Convert the notebook to a PDF using File > Print > Save as PDF.  Make sure all code outputs including graphs are visible on the PDF."
      ],
      "metadata": {
        "id": "ClKSHWvGmD_x"
      }
    }
  ]
}