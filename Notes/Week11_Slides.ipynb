{
 "cells": [
  {
   "cell_type": "markdown",
   "id": "965b73ad",
   "metadata": {},
   "source": [
    "# Advanced Methods for Improving the Performance of Convolutional Neural Networks\n",
    "\n",
    "CSC/DSC 340 Week 11 Slides\n",
    "\n",
    "Author: [Dr. Julie Butler](http://www.juliebutler.org)\n",
    "\n",
    "Date Created: October 29, 2023\n",
    "\n",
    "Last Modified: October 29, 2023"
   ]
  },
  {
   "cell_type": "markdown",
   "id": "42522aa5",
   "metadata": {},
   "source": [
    "* Last week we learned how to classify the MNIST data set with convolutional neural networks and how to improve the performance of these CNNs with hyperparameter tuning\n",
    "* This week we will learn how to futher improve the performance using a few preprocessing techniques and a few different architecture styles"
   ]
  },
  {
   "cell_type": "markdown",
   "id": "631e76eb",
   "metadata": {},
   "source": [
    "* First, let's review the MNIST data set"
   ]
  },
  {
   "cell_type": "code",
   "execution_count": 2,
   "id": "a4e8a8f6",
   "metadata": {},
   "outputs": [
    {
     "name": "stdout",
     "output_type": "stream",
     "text": [
      "Train images shape: (60000, 28, 28)\n",
      "Train labels shape: (60000,)\n",
      "Test images shape: (10000, 28, 28)\n",
      "Test labels shape: (10000,)\n"
     ]
    }
   ],
   "source": [
    "import tensorflow as tf\n",
    "\n",
    "# Load MNIST data\n",
    "mnist = tf.keras.datasets.mnist\n",
    "(train_images, train_labels), (test_images, test_labels) = mnist.load_data()\n",
    "\n",
    "# Normalize the data\n",
    "train_images, test_images = train_images / 255.0, test_images / 255.0\n",
    "\n",
    "# Print the shape of the data\n",
    "print(\"Train images shape:\", train_images.shape)\n",
    "print(\"Train labels shape:\", train_labels.shape)\n",
    "print(\"Test images shape:\", test_images.shape)\n",
    "print(\"Test labels shape:\", test_labels.shape)"
   ]
  },
  {
   "cell_type": "code",
   "execution_count": 2,
   "id": "9d3ed296",
   "metadata": {},
   "outputs": [
    {
     "data": {
      "image/png": "[encoded data removed]",
      "text/plain": [
       "<Figure size 1000x300 with 5 Axes>"
      ]
     },
     "metadata": {},
     "output_type": "display_data"
    }
   ],
   "source": [
    "import matplotlib.pyplot as plt\n",
    "# Display a small number of images\n",
    "num_images = 5\n",
    "plt.figure(figsize=(10, 3))\n",
    "for i in range(num_images):\n",
    "    plt.subplot(1, num_images, i + 1)\n",
    "    plt.xticks([])\n",
    "    plt.yticks([])\n",
    "    plt.grid(False)\n",
    "    plt.imshow(train_images[i], cmap=plt.cm.binary)\n",
    "    plt.xlabel(train_labels[i])\n",
    "plt.show()"
   ]
  },
  {
   "cell_type": "markdown",
   "id": "a7739920",
   "metadata": {},
   "source": [
    "* Now let's review how to classify the MNIST data set with a simple CNN"
   ]
  },
  {
   "cell_type": "code",
   "execution_count": 3,
   "id": "56d039f0",
   "metadata": {},
   "outputs": [
    {
     "name": "stdout",
     "output_type": "stream",
     "text": [
      "Epoch 1/5\n"
     ]
    },
    {
     "name": "stderr",
     "output_type": "stream",
     "text": [
      "2023-10-30 08:53:43.228942: W tensorflow/tsl/platform/profile_utils/cpu_utils.cc:128] Failed to get CPU frequency: 0 Hz\n"
     ]
    },
    {
     "name": "stdout",
     "output_type": "stream",
     "text": [
      "844/844 [==============================] - 15s 18ms/step - loss: 0.1925 - accuracy: 0.9410 - val_loss: 0.0597 - val_accuracy: 0.9828\n",
      "Epoch 2/5\n",
      "844/844 [==============================] - 15s 18ms/step - loss: 0.0547 - accuracy: 0.9832 - val_loss: 0.0386 - val_accuracy: 0.9888\n",
      "Epoch 3/5\n",
      "844/844 [==============================] - 16s 19ms/step - loss: 0.0378 - accuracy: 0.9881 - val_loss: 0.0389 - val_accuracy: 0.9882\n",
      "Epoch 4/5\n",
      "844/844 [==============================] - 16s 19ms/step - loss: 0.0312 - accuracy: 0.9897 - val_loss: 0.0441 - val_accuracy: 0.9882\n",
      "Epoch 5/5\n",
      "844/844 [==============================] - 16s 19ms/step - loss: 0.0245 - accuracy: 0.9919 - val_loss: 0.0329 - val_accuracy: 0.9910\n",
      "313/313 - 1s - loss: 0.0280 - accuracy: 0.9912 - 1s/epoch - 5ms/step\n",
      "\n",
      "Test accuracy: 0.9911999702453613\n"
     ]
    }
   ],
   "source": [
    "from tensorflow.keras import layers, models\n",
    "\n",
    "# Build the model\n",
    "model = models.Sequential([\n",
    "    layers.Conv2D(32, (3, 3), activation='relu', input_shape=(28, 28, 1)),\n",
    "    layers.MaxPooling2D((2, 2)),\n",
    "    layers.Conv2D(64, (3, 3), activation='relu'),\n",
    "    layers.MaxPooling2D((2, 2)),\n",
    "    layers.Conv2D(64, (3, 3), activation='relu'),\n",
    "    layers.Flatten(),\n",
    "    layers.Dense(64, activation='relu'),\n",
    "    layers.Dense(10, activation='softmax')\n",
    "])\n",
    "\n",
    "# Compile the model\n",
    "model.compile(optimizer='adam',\n",
    "              loss='sparse_categorical_crossentropy',\n",
    "              metrics=['accuracy'])\n",
    "\n",
    "# Train the model\n",
    "model.fit(train_images, train_labels, epochs=5, batch_size=64, validation_split=0.1)\n",
    "\n",
    "# Evaluate the model\n",
    "test_loss, test_acc = model.evaluate(test_images, test_labels, verbose=2)\n",
    "print('\\nTest accuracy:', test_acc)\n",
    "\n",
    "del train_images\n",
    "del test_images"
   ]
  },
  {
   "cell_type": "markdown",
   "id": "a7d57a5f",
   "metadata": {},
   "source": [
    "* Now let's attempt to improve this accuracy\n",
    "    * NOTE: these techniques may not work well on the MNIST data set since the images are quite simple but will work better with larger and more complex images"
   ]
  },
  {
   "cell_type": "markdown",
   "id": "563072f2",
   "metadata": {},
   "source": [
    "## Improving Through Pre-Processing Steps"
   ]
  },
  {
   "cell_type": "markdown",
   "id": "db61755f",
   "metadata": {},
   "source": [
    "* First let's increase the size of the data set using _data augmentation_\n",
    "    * Add images to the data set that are rotated, stretched, translated, and zoomed in versions of the original images\n",
    "    * Should lead to better generalization and thus increased accuracy\n",
    "\n",
    "* Note that for the `ImageDataGenerator` function the X data (the images) need to be four dimensions instead of 3 dimensions"
   ]
  },
  {
   "cell_type": "code",
   "execution_count": 4,
   "id": "426ea7fa",
   "metadata": {},
   "outputs": [
    {
     "name": "stdout",
     "output_type": "stream",
     "text": [
      "Epoch 1/5\n"
     ]
    },
    {
     "name": "stderr",
     "output_type": "stream",
     "text": [
      "2023-10-30 08:55:04.444998: I tensorflow/core/common_runtime/executor.cc:1197] [/device:CPU:0] (DEBUG INFO) Executor start aborting (this does not indicate an error and you can ignore this message): INVALID_ARGUMENT: You must feed a value for placeholder tensor 'Placeholder/_0' with dtype int32\n",
      "\t [[{{node Placeholder/_0}}]]\n"
     ]
    },
    {
     "name": "stdout",
     "output_type": "stream",
     "text": [
      "1875/1875 [==============================] - 25s 13ms/step - loss: 0.2924 - accuracy: 0.9078\n",
      "Epoch 2/5\n",
      "1875/1875 [==============================] - 25s 13ms/step - loss: 0.1006 - accuracy: 0.9692\n",
      "Epoch 3/5\n",
      "1875/1875 [==============================] - 27s 14ms/step - loss: 0.0724 - accuracy: 0.9778\n",
      "Epoch 4/5\n",
      "1875/1875 [==============================] - 25s 14ms/step - loss: 0.0618 - accuracy: 0.9807\n",
      "Epoch 5/5\n",
      "1875/1875 [==============================] - 25s 13ms/step - loss: 0.0526 - accuracy: 0.9836\n",
      "313/313 [==============================] - 1s 4ms/step - loss: 0.0294 - accuracy: 0.9902\n",
      "Test accuracy: 0.9901999831199646\n"
     ]
    }
   ],
   "source": [
    "from tensorflow.keras.preprocessing.image import ImageDataGenerator\n",
    "import scipy.ndimage\n",
    "\n",
    "# Load the MNIST dataset\n",
    "(x_train, y_train), (x_test, y_test) = mnist.load_data()\n",
    "\n",
    "# Data preprocessing and normalization\n",
    "x_train = x_train.reshape(x_train.shape[0], 28, 28, 1).astype('float32') / 255\n",
    "x_test = x_test.reshape(x_test.shape[0], 28, 28, 1).astype('float32') / 255\n",
    "\n",
    "# Data augmentation\n",
    "datagen = ImageDataGenerator(\n",
    "    rotation_range=10,\n",
    "    width_shift_range=0.1,\n",
    "    height_shift_range=0.1,\n",
    "    zoom_range=0.1\n",
    ")\n",
    "datagen.fit(x_train)\n",
    "\n",
    "# Create a simple CNN model\n",
    "model = models.Sequential([\n",
    "    layers.Conv2D(32, (3, 3), activation='relu', input_shape=(28, 28, 1)),\n",
    "    layers.MaxPooling2D((2, 2)),\n",
    "    layers.Conv2D(64, (3, 3), activation='relu'),\n",
    "    layers.MaxPooling2D((2, 2)),\n",
    "    layers.Conv2D(64, (3, 3), activation='relu'),\n",
    "    layers.Flatten(),\n",
    "    layers.Dense(64, activation='relu'),\n",
    "    layers.Dense(10, activation='softmax')\n",
    "])\n",
    "\n",
    "# Compile the model\n",
    "model.compile(optimizer='adam',\n",
    "              loss='sparse_categorical_crossentropy',\n",
    "              metrics=['accuracy'])\n",
    "\n",
    "# Fit the model with augmented data\n",
    "model.fit(datagen.flow(x_train, y_train, batch_size=32),\n",
    "          steps_per_epoch=len(x_train) / 32, epochs=5)\n",
    "\n",
    "# Evaluate the model\n",
    "test_loss, test_acc = model.evaluate(x_test, y_test)\n",
    "print(f'Test accuracy: {test_acc}')\n",
    "\n",
    "del x_train\n",
    "del x_test\n"
   ]
  },
  {
   "cell_type": "markdown",
   "id": "e93365e6",
   "metadata": {},
   "source": [
    "* Next we will attempt to increase the accuracy by sharpening the edges of the digits by removing pixels that are light grey\n",
    "* For more complex images, there are algorithms for edge sharpening, deblurring, etc. that can be applied in a similar manner"
   ]
  },
  {
   "cell_type": "code",
   "execution_count": 3,
   "id": "3298ab58",
   "metadata": {},
   "outputs": [],
   "source": [
    "import numpy as np\n",
    "# Load the MNIST dataset\n",
    "(x_train, y_train), (x_test, y_test) = mnist.load_data()\n",
    "\n",
    "# Function to remove gray images\n",
    "def remove_gray_images(images, threshold=5):\n",
    "    images_redone = []\n",
    "    for image in images:\n",
    "        for i in range(28):\n",
    "            for j in range(28):\n",
    "                if image[i][j] < 255-threshold:\n",
    "                    image[i][j] = 0\n",
    "        images_redone.append(image)\n",
    "    images_redone = np.asarray(images_redone)\n",
    "    return images_redone\n",
    "\n",
    "# Remove gray images from the training set\n",
    "x_train_filtered = remove_gray_images(x_train, 55) # 55 is the number for blackness rating of pixels\n",
    "\n",
    "# Remove gray images from the test set\n",
    "x_test_filtered = remove_gray_images(x_test, 55)\n"
   ]
  },
  {
   "cell_type": "markdown",
   "id": "dc2fad10",
   "metadata": {},
   "source": [
    "* The original images"
   ]
  },
  {
   "cell_type": "code",
   "execution_count": 6,
   "id": "4eb853f5",
   "metadata": {},
   "outputs": [
    {
     "data": {
      "image/png": "[encoded data removed]",
      "text/plain": [
       "<Figure size 1000x300 with 5 Axes>"
      ]
     },
     "metadata": {},
     "output_type": "display_data"
    }
   ],
   "source": [
    "(x_train, y_train), (x_test, y_test) = mnist.load_data()\n",
    "# Display a small number of images\n",
    "num_images = 5\n",
    "plt.figure(figsize=(10, 3))\n",
    "for i in range(num_images):\n",
    "    plt.subplot(1, num_images, i + 1)\n",
    "    plt.xticks([])\n",
    "    plt.yticks([])\n",
    "    plt.grid(False)\n",
    "    plt.imshow(x_train[i], cmap=plt.cm.binary)\n",
    "    plt.xlabel(y_train[i])\n",
    "plt.show()"
   ]
  },
  {
   "cell_type": "markdown",
   "id": "8d8287fc",
   "metadata": {},
   "source": [
    "* The sharpened images"
   ]
  },
  {
   "cell_type": "code",
   "execution_count": 7,
   "id": "f85915f8",
   "metadata": {},
   "outputs": [
    {
     "data": {
      "image/png": "[encoded data removed]",
      "text/plain": [
       "<Figure size 1000x300 with 5 Axes>"
      ]
     },
     "metadata": {},
     "output_type": "display_data"
    }
   ],
   "source": [
    "# Display a small number of images\n",
    "num_images = 5\n",
    "plt.figure(figsize=(10, 3))\n",
    "for i in range(num_images):\n",
    "    plt.subplot(1, num_images, i + 1)\n",
    "    plt.xticks([])\n",
    "    plt.yticks([])\n",
    "    plt.grid(False)\n",
    "    plt.imshow(x_train_filtered[i], cmap=plt.cm.binary)\n",
    "    plt.xlabel(y_train[i])\n",
    "plt.show()"
   ]
  },
  {
   "cell_type": "markdown",
   "id": "53090809",
   "metadata": {},
   "source": [
    "* Now let's train a CNN using the sharpened data set"
   ]
  },
  {
   "cell_type": "code",
   "execution_count": 8,
   "id": "ffc196a7",
   "metadata": {},
   "outputs": [
    {
     "name": "stdout",
     "output_type": "stream",
     "text": [
      "Epoch 1/5\n",
      "844/844 [==============================] - 17s 20ms/step - loss: 0.2083 - accuracy: 0.9354 - val_loss: 0.0671 - val_accuracy: 0.9795\n",
      "Epoch 2/5\n",
      "844/844 [==============================] - 16s 19ms/step - loss: 0.0600 - accuracy: 0.9814 - val_loss: 0.0524 - val_accuracy: 0.9863\n",
      "Epoch 3/5\n",
      "844/844 [==============================] - 17s 20ms/step - loss: 0.0443 - accuracy: 0.9857 - val_loss: 0.0446 - val_accuracy: 0.9868\n",
      "Epoch 4/5\n",
      "844/844 [==============================] - 17s 20ms/step - loss: 0.0329 - accuracy: 0.9892 - val_loss: 0.0403 - val_accuracy: 0.9895\n",
      "Epoch 5/5\n",
      "844/844 [==============================] - 16s 19ms/step - loss: 0.0264 - accuracy: 0.9913 - val_loss: 0.0573 - val_accuracy: 0.9837\n",
      "313/313 - 1s - loss: 0.0571 - accuracy: 0.9837 - 1s/epoch - 4ms/step\n",
      "\n",
      "Test accuracy: 0.9836999773979187\n"
     ]
    }
   ],
   "source": [
    "# Scale the data\n",
    "x_train_filtered = x_train_filtered / 255\n",
    "x_test_filtered = x_test_filtered / 255\n",
    "\n",
    "# Build the model\n",
    "model = models.Sequential([\n",
    "    layers.Conv2D(32, (3, 3), activation='relu', input_shape=(28, 28, 1)),\n",
    "    layers.MaxPooling2D((2, 2)),\n",
    "    layers.Conv2D(64, (3, 3), activation='relu'),\n",
    "    layers.MaxPooling2D((2, 2)),\n",
    "    layers.Conv2D(64, (3, 3), activation='relu'),\n",
    "    layers.Flatten(),\n",
    "    layers.Dense(64, activation='relu'),\n",
    "    layers.Dense(10, activation='softmax')\n",
    "])\n",
    "\n",
    "# Compile the model\n",
    "model.compile(optimizer='adam',\n",
    "              loss='sparse_categorical_crossentropy',\n",
    "              metrics=['accuracy'])\n",
    "\n",
    "# Train the model\n",
    "model.fit(x_train_filtered, y_train, epochs=5, batch_size=64, validation_split=0.1)\n",
    "\n",
    "# Evaluate the model\n",
    "test_loss, test_acc = model.evaluate(x_test_filtered, test_labels, verbose=2)\n",
    "print('\\nTest accuracy:', test_acc)\n",
    "\n",
    "del x_train\n",
    "del x_test\n",
    "del x_train_filtered\n",
    "del x_test_filtered"
   ]
  },
  {
   "cell_type": "markdown",
   "id": "fa6bde31",
   "metadata": {},
   "source": [
    "## Improving Accuracy with Differing Architectures"
   ]
  },
  {
   "cell_type": "markdown",
   "id": "ecf01402",
   "metadata": {},
   "source": [
    "* First we will test the addition of regularization and drop-out to the CNN\n",
    "    * Regularization: Using L1 or L2 norms to control the values of the weights of the network (like LASSO and Ridge regresion)\n",
    "    * Dropout: randomly setting X% of the weights of a layer to zero\n",
    "* Both methods can reduce overfitting and thus increase accuracy"
   ]
  },
  {
   "cell_type": "code",
   "execution_count": 9,
   "id": "702e7f1d",
   "metadata": {},
   "outputs": [
    {
     "name": "stdout",
     "output_type": "stream",
     "text": [
      "Epoch 1/5\n",
      "469/469 [==============================] - 11s 22ms/step - loss: 0.8855 - accuracy: 0.8439 - val_loss: 0.5094 - val_accuracy: 0.9335\n",
      "Epoch 2/5\n",
      "469/469 [==============================] - 11s 23ms/step - loss: 0.6257 - accuracy: 0.8898 - val_loss: 0.4988 - val_accuracy: 0.9346\n",
      "Epoch 3/5\n",
      "469/469 [==============================] - 11s 23ms/step - loss: 0.5766 - accuracy: 0.9038 - val_loss: 0.4411 - val_accuracy: 0.9479\n",
      "Epoch 4/5\n",
      "469/469 [==============================] - 11s 23ms/step - loss: 0.5402 - accuracy: 0.9127 - val_loss: 0.4065 - val_accuracy: 0.9573\n",
      "Epoch 5/5\n",
      "469/469 [==============================] - 11s 23ms/step - loss: 0.5135 - accuracy: 0.9206 - val_loss: 0.3832 - val_accuracy: 0.9604\n",
      "313/313 [==============================] - 1s 2ms/step - loss: 0.3832 - accuracy: 0.9604\n",
      "Test accuracy: 0.9603999853134155\n"
     ]
    }
   ],
   "source": [
    "import numpy as np\n",
    "from tensorflow.keras.datasets import mnist\n",
    "from tensorflow.keras.models import Sequential\n",
    "from tensorflow.keras.layers import Dense, Dropout, Flatten\n",
    "from tensorflow.keras.layers import Conv2D, MaxPooling2D\n",
    "from tensorflow.keras import regularizers\n",
    "from tensorflow.keras.utils import to_categorical\n",
    "\n",
    "# Load the MNIST dataset\n",
    "(x_train, y_train), (x_test, y_test) = mnist.load_data()\n",
    "\n",
    "# Preprocess the data\n",
    "x_train = np.expand_dims(x_train, axis=-1) / 255.0\n",
    "x_test = np.expand_dims(x_test, axis=-1) / 255.0\n",
    "\n",
    "# Create a CNN model with regularization and dropout\n",
    "model = Sequential()\n",
    "model.add(Conv2D(32, kernel_size=(3, 3), activation='relu', kernel_regularizer=regularizers.l2(0.01), input_shape=(28, 28, 1)))\n",
    "model.add(MaxPooling2D(pool_size=(2, 2)))\n",
    "model.add(Dropout(0.25))\n",
    "model.add(Flatten())\n",
    "model.add(Dense(128, activation='relu', kernel_regularizer=regularizers.l2(0.01)))\n",
    "model.add(Dropout(0.5))\n",
    "model.add(Dense(10, activation='softmax'))\n",
    "\n",
    "# Compile the model\n",
    "model.compile(loss='sparse_categorical_crossentropy',\n",
    "              optimizer='adam',\n",
    "              metrics=['accuracy'])\n",
    "\n",
    "# Train the model\n",
    "model.fit(x_train, y_train,\n",
    "          batch_size=128,\n",
    "          epochs=5,\n",
    "          verbose=1,\n",
    "          validation_data=(x_test, y_test))\n",
    "\n",
    "# Evaluate the model\n",
    "test_loss, test_acc = model.evaluate(x_test, y_test)\n",
    "print(f'Test accuracy: {test_acc}')\n",
    "\n",
    "del x_train\n",
    "del x_test\n"
   ]
  },
  {
   "cell_type": "markdown",
   "id": "f1d313b6",
   "metadata": {},
   "source": [
    "* Ensemble Learning: Train many CNNs and take the average of the CNNS to be the result\n",
    "    * Also used to reduce overfitting and capture various patterns in the data\n",
    "* The ensemble can be made of CNNs of the same architecture (this example) or different architectures"
   ]
  },
  {
   "cell_type": "code",
   "execution_count": 10,
   "id": "693ebd1e",
   "metadata": {},
   "outputs": [
    {
     "name": "stdout",
     "output_type": "stream",
     "text": [
      "313/313 [==============================] - 1s 2ms/step\n",
      "313/313 [==============================] - 1s 2ms/step\n",
      "313/313 [==============================] - 1s 2ms/step\n",
      "313/313 [==============================] - 1s 2ms/step\n",
      "313/313 [==============================] - 1s 2ms/step\n",
      "313/313 [==============================] - 1s 2ms/step - loss: 0.0447 - accuracy: 0.9841\n",
      "Ensemble test accuracy: 0.9840999841690063\n"
     ]
    }
   ],
   "source": [
    "import numpy as np\n",
    "from tensorflow.keras.datasets import mnist\n",
    "from tensorflow.keras.models import Sequential\n",
    "from tensorflow.keras.layers import Dense, Dropout, Flatten\n",
    "from tensorflow.keras.layers import Conv2D, MaxPooling2D\n",
    "from tensorflow.keras.utils import to_categorical\n",
    "\n",
    "# Load the MNIST dataset\n",
    "(x_train, y_train), (x_test, y_test) = mnist.load_data()\n",
    "\n",
    "# Preprocess the data\n",
    "x_train = np.expand_dims(x_train, axis=-1) / 255.0\n",
    "x_test = np.expand_dims(x_test, axis=-1) / 255.0\n",
    "y_train = to_categorical(y_train, num_classes=10)\n",
    "y_test = to_categorical(y_test, num_classes=10)\n",
    "\n",
    "# Create multiple CNN models\n",
    "num_models = 5\n",
    "models = []\n",
    "\n",
    "for i in range(num_models):\n",
    "    model = Sequential()\n",
    "    model.add(Conv2D(32, kernel_size=(3, 3), activation='relu', input_shape=(28, 28, 1)))\n",
    "    model.add(MaxPooling2D(pool_size=(2, 2)))\n",
    "    model.add(Dropout(0.25))\n",
    "    model.add(Flatten())\n",
    "    model.add(Dense(128, activation='relu'))\n",
    "    model.add(Dropout(0.5))\n",
    "    model.add(Dense(10, activation='softmax'))\n",
    "    model.compile(loss='categorical_crossentropy', optimizer='adam', metrics=['accuracy'])\n",
    "    models.append(model)\n",
    "\n",
    "# Train the models\n",
    "for model in models:\n",
    "    model.fit(x_train, y_train, batch_size=128, epochs=5, verbose=0)\n",
    "# Combine predictions from the models\n",
    "\n",
    "y_preds = np.zeros_like(y_test)\n",
    "\n",
    "for model in models:\n",
    "    y_preds += model.predict(x_test)\n",
    "\n",
    "y_preds /= num_models\n",
    "\n",
    "# Evaluate the ensemble model\n",
    "ensemble_loss, ensemble_acc = model.evaluate(x_test, y_test)\n",
    "print(f'Ensemble test accuracy: {ensemble_acc}')\n",
    "\n",
    "\n",
    "del x_train\n",
    "del x_test"
   ]
  },
  {
   "cell_type": "markdown",
   "id": "26cc9ae9",
   "metadata": {},
   "source": [
    "### More Complex Architecture\n",
    "* Inception Networks, ResNet, DeepNet\n",
    "    * Improve computational effeciency with smaller parallel layers instead of larger layers\n",
    "* Can train the networks using Google's ImageNet weights (transfer learning)\n",
    "* Not useful (in fact not appliciable) the MNIST data set but work well on larger image dta sets"
   ]
  },
  {
   "cell_type": "code",
   "execution_count": null,
   "id": "b1d66714",
   "metadata": {},
   "outputs": [],
   "source": []
  }
 ],
 "metadata": {
  "kernelspec": {
   "display_name": "Python 3 (ipykernel)",
   "language": "python",
   "name": "python3"
  },
  "language_info": {
   "codemirror_mode": {
    "name": "ipython",
    "version": 3
   },
   "file_extension": ".py",
   "mimetype": "text/x-python",
   "name": "python",
   "nbconvert_exporter": "python",
   "pygments_lexer": "ipython3",
   "version": "3.11.5"
  }
 },
 "nbformat": 4,
 "nbformat_minor": 5
}
